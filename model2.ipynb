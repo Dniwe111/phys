{
 "cells": [
  {
   "cell_type": "markdown",
   "metadata": {},
   "source": [
    "Моделирование №2 Вариант №10 Кулябин Денис M3101"
   ]
  },
  {
   "cell_type": "code",
   "execution_count": 1,
   "metadata": {},
   "outputs": [],
   "source": [
    "import numpy as np\n",
    "import matplotlib.pyplot as plt\n",
    "import math"
   ]
  },
  {
   "cell_type": "code",
   "execution_count": 7,
   "metadata": {},
   "outputs": [],
   "source": [
    "r = 0.055\n",
    "R = 0.12\n",
    "vx = 4000000\n",
    "L = 0.2\n",
    "q = 1.6e-19\n",
    "eps0 = 8.85e-12\n",
    "me = 9.1e-31\n",
    "d = R-r"
   ]
  },
  {
   "cell_type": "markdown",
   "metadata": {},
   "source": [
    "Все вычисления проходят в системе СИ\n",
    "\n",
    "Vx = const = 4000000 м/с\n",
    "\n",
    "t полёта = L/Vx = 5*10^-8 c\n",
    "\n",
    "a(y) = -q*U/(r+y)/ln(R/r)/m\n",
    "\n",
    "Будем повышать U с 0 маленькими шагами (шаг = 0,01 В), пока электрон не начнёт касаться конденсатора.\n",
    "Мы разбили время на маленькие кусочки, и за каждый промежуток времени мы будем вычислять новое положение электрона."
   ]
  },
  {
   "cell_type": "code",
   "execution_count": 8,
   "metadata": {},
   "outputs": [
    {
     "name": "stdout",
     "output_type": "stream",
     "text": [
      "Umin = 9.439999999999843\n"
     ]
    }
   ],
   "source": [
    "ans = 2\n",
    "U = 0\n",
    "while ans>0:\n",
    "    U += 1e-2\n",
    "    x = 0\n",
    "    y = d/2\n",
    "    vy = 0\n",
    "    ay = -q*U/(r+y)/math.log(R/r)/me\n",
    "    t = 0;\n",
    "    delta = L/vx/20000\n",
    "    while t<L/vx:\n",
    "        x += vx*delta\n",
    "        y += vy*delta\n",
    "        vy += ay*delta\n",
    "        ay = -q*U/(r+y)/math.log(R/r)/me\n",
    "        t += delta\n",
    "    ans = y\n",
    "print(\"Umin =\",U)"
   ]
  },
  {
   "cell_type": "markdown",
   "metadata": {},
   "source": [
    "Построение графиков"
   ]
  },
  {
   "cell_type": "code",
   "execution_count": 9,
   "metadata": {},
   "outputs": [
    {
     "data": {
      "text/plain": [
       "Text(0, 0.5, 'y')"
      ]
     },
     "execution_count": 9,
     "metadata": {},
     "output_type": "execute_result"
    },
    {
     "data": {
      "image/png": "[encoded data removed]",
      "text/plain": [
       "<Figure size 432x288 with 1 Axes>"
      ]
     },
     "metadata": {
      "needs_background": "light"
     },
     "output_type": "display_data"
    }
   ],
   "source": [
    "fx=[]\n",
    "fy=[]\n",
    "x = 0\n",
    "fx.append(x)\n",
    "y = d/2\n",
    "fy.append(y)\n",
    "vy = 0\n",
    "ay = -q*U/(r+y)/math.log(R/r)/me\n",
    "t = 0;\n",
    "delta = L/vx/20000\n",
    "while t<L/vx:\n",
    "    x += vx*delta\n",
    "    fx.append(x)\n",
    "    y += vy*delta\n",
    "    fy.append(y)\n",
    "    vy += ay*delta\n",
    "    ay = -q*U/(r+y)/math.log(R/r)/me\n",
    "    t += delta\n",
    "fig, ax1 = plt.subplots()\n",
    "ax1.scatter(x=fx, y=fy, marker='o', c='r', edgecolor='b')\n",
    "ax1.set_title('y(x)')\n",
    "ax1.set_xlabel('x')\n",
    "ax1.set_ylabel('y')"
   ]
  },
  {
   "cell_type": "code",
   "execution_count": 10,
   "metadata": {},
   "outputs": [
    {
     "data": {
      "text/plain": [
       "Text(0, 0.5, 'Vy')"
      ]
     },
     "execution_count": 10,
     "metadata": {},
     "output_type": "execute_result"
    },
    {
     "data": {
      "image/png": "[encoded data removed]",
      "text/plain": [
       "<Figure size 432x288 with 1 Axes>"
      ]
     },
     "metadata": {
      "needs_background": "light"
     },
     "output_type": "display_data"
    }
   ],
   "source": [
    "fx=[]\n",
    "fy=[]\n",
    "x = 0\n",
    "y = d/2\n",
    "vy = 0\n",
    "fy.append(vy)\n",
    "ay = -q*U/(r+y)/math.log(R/r)/me\n",
    "t = 0;\n",
    "fx.append(t)\n",
    "delta = L/vx/20000\n",
    "while t<L/vx:\n",
    "    x += vx*delta\n",
    "    y += vy*delta\n",
    "    vy += ay*delta\n",
    "    fy.append(vy)\n",
    "    ay = -q*U/(r+y)/math.log(R/r)/me\n",
    "    t += delta\n",
    "    fx.append(t)\n",
    "fig, ax1 = plt.subplots()\n",
    "ax1.scatter(x=fx, y=fy, marker='o', c='r', edgecolor='b')\n",
    "ax1.set_title('Vy(t)')\n",
    "ax1.set_xlabel('t')\n",
    "ax1.set_ylabel('Vy')"
   ]
  },
  {
   "cell_type": "code",
   "execution_count": 11,
   "metadata": {},
   "outputs": [
    {
     "data": {
      "text/plain": [
       "Text(0, 0.5, 'ay')"
      ]
     },
     "execution_count": 11,
     "metadata": {},
     "output_type": "execute_result"
    },
    {
     "data": {
      "image/png": "[encoded data removed]",
      "text/plain": [
       "<Figure size 432x288 with 1 Axes>"
      ]
     },
     "metadata": {
      "needs_background": "light"
     },
     "output_type": "display_data"
    }
   ],
   "source": [
    "fx=[]\n",
    "fy=[]\n",
    "x = 0\n",
    "y = d/2\n",
    "vy = 0\n",
    "ay = -q*U/(r+y)/math.log(R/r)/me\n",
    "fy.append(ay)\n",
    "t = 0;\n",
    "fx.append(t)\n",
    "delta = L/vx/20000\n",
    "while t<L/vx:\n",
    "    x += vx*delta\n",
    "    y += vy*delta\n",
    "    vy += ay*delta\n",
    "    ay = -q*U/(r+y)/math.log(R/r)/me\n",
    "    fy.append(ay)\n",
    "    t += delta\n",
    "    fx.append(t)\n",
    "fig, ax1 = plt.subplots()\n",
    "ax1.scatter(x=fx, y=fy, marker='o', c='r', edgecolor='b')\n",
    "ax1.set_title('ay(t)')\n",
    "ax1.set_xlabel('t')\n",
    "ax1.set_ylabel('ay')"
   ]
  },
  {
   "cell_type": "code",
   "execution_count": 12,
   "metadata": {},
   "outputs": [
    {
     "data": {
      "text/plain": [
       "Text(0, 0.5, 'y')"
      ]
     },
     "execution_count": 12,
     "metadata": {},
     "output_type": "execute_result"
    },
    {
     "data": {
      "image/png": "[encoded data removed]",
      "text/plain": [
       "<Figure size 432x288 with 1 Axes>"
      ]
     },
     "metadata": {
      "needs_background": "light"
     },
     "output_type": "display_data"
    }
   ],
   "source": [
    "fx=[]\n",
    "fy=[]\n",
    "x = 0\n",
    "y = d/2\n",
    "fy.append(y)\n",
    "vy = 0\n",
    "ay = -q*U/(r+y)/math.log(R/r)/me\n",
    "t = 0;\n",
    "fx.append(t)\n",
    "delta = L/vx/20000\n",
    "while t<L/vx:\n",
    "    x += vx*delta\n",
    "    y += vy*delta\n",
    "    fy.append(y)\n",
    "    vy += ay*delta\n",
    "    ay = -q*U/(r+y)/math.log(R/r)/me\n",
    "    t += delta\n",
    "    fx.append(t)\n",
    "fig, ax1 = plt.subplots()\n",
    "ax1.scatter(x=fx, y=fy, marker='o', c='r', edgecolor='b')\n",
    "ax1.set_title('y(t)')\n",
    "ax1.set_xlabel('t')\n",
    "ax1.set_ylabel('y')"
   ]
  }
 ],
 "metadata": {
  "kernelspec": {
   "display_name": "Python 3",
   "language": "python",
   "name": "python3"
  },
  "language_info": {
   "codemirror_mode": {
    "name": "ipython",
    "version": 3
   },
   "file_extension": ".py",
   "mimetype": "text/x-python",
   "name": "python",
   "nbconvert_exporter": "python",
   "pygments_lexer": "ipython3",
   "version": "3.8.5"
  }
 },
 "nbformat": 4,
 "nbformat_minor": 4
}
